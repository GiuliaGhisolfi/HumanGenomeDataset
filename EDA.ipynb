{
 "cells": [
  {
   "cell_type": "markdown",
   "metadata": {},
   "source": [
    "## Human Reference Genome "
   ]
  },
  {
   "cell_type": "code",
   "execution_count": 2,
   "metadata": {},
   "outputs": [],
   "source": [
    "import pandas as pd\n",
    "import pickle\n",
    "from Bio import SeqIO"
   ]
  },
  {
   "cell_type": "markdown",
   "metadata": {},
   "source": [
    "Load dataset"
   ]
  },
  {
   "cell_type": "code",
   "execution_count": 3,
   "metadata": {},
   "outputs": [],
   "source": [
    "def load_data_from_pickle(path):\n",
    "    # Load the pickle file\n",
    "    with open(path, 'rb') as f:\n",
    "        data = pickle.load(f)\n",
    "    return data"
   ]
  },
  {
   "cell_type": "code",
   "execution_count": 4,
   "metadata": {},
   "outputs": [],
   "source": [
    "FILE_PATH = 'human_genome/human_genome_rna.pkl'\n",
    "PROTEIN_FILE_PATH = 'human_genome/human_genome_protein.pkl'\n",
    "\n",
    "human_genome_df = load_data_from_pickle(FILE_PATH)\n",
    "protein_df = load_data_from_pickle(PROTEIN_FILE_PATH)"
   ]
  },
  {
   "cell_type": "code",
   "execution_count": 5,
   "metadata": {},
   "outputs": [
    {
     "data": {
      "text/html": [
       "<div>\n",
       "<style scoped>\n",
       "    .dataframe tbody tr th:only-of-type {\n",
       "        vertical-align: middle;\n",
       "    }\n",
       "\n",
       "    .dataframe tbody tr th {\n",
       "        vertical-align: top;\n",
       "    }\n",
       "\n",
       "    .dataframe thead th {\n",
       "        text-align: right;\n",
       "    }\n",
       "</style>\n",
       "<table border=\"1\" class=\"dataframe\">\n",
       "  <thead>\n",
       "    <tr style=\"text-align: right;\">\n",
       "      <th></th>\n",
       "      <th>ID</th>\n",
       "      <th>sequence</th>\n",
       "    </tr>\n",
       "  </thead>\n",
       "  <tbody>\n",
       "    <tr>\n",
       "      <th>0</th>\n",
       "      <td>NR_168385.1</td>\n",
       "      <td>AGCAGGGCGTCCAGCGGAGAAGGCAGAGGAGGGGAGATGCGGGCTC...</td>\n",
       "    </tr>\n",
       "    <tr>\n",
       "      <th>1</th>\n",
       "      <td>NR_168384.1</td>\n",
       "      <td>AGCAGGGCGTCCAGCGGAGAAGGCAGAGGAGGGGAGATGCGGGCTC...</td>\n",
       "    </tr>\n",
       "  </tbody>\n",
       "</table>\n",
       "</div>"
      ],
      "text/plain": [
       "            ID                                           sequence\n",
       "0  NR_168385.1  AGCAGGGCGTCCAGCGGAGAAGGCAGAGGAGGGGAGATGCGGGCTC...\n",
       "1  NR_168384.1  AGCAGGGCGTCCAGCGGAGAAGGCAGAGGAGGGGAGATGCGGGCTC..."
      ]
     },
     "execution_count": 5,
     "metadata": {},
     "output_type": "execute_result"
    }
   ],
   "source": [
    "human_genome_df.head(2)"
   ]
  },
  {
   "cell_type": "markdown",
   "metadata": {},
   "source": [
    "Nucleotides allocation of symbols:\n",
    "- Guanine. adenine, thymine, cytosine: G,A,T,C\n",
    "- Purine (adenine or guanine): R\n",
    "- Pyrimidine (thymine or cytosine): Y\n",
    "- Adenine or thymine: W\n",
    "- Guanine or cytosine: S\n",
    "- Adenine or cytosine: M\n",
    "- Guanine or thymine: K\n",
    "- Adenine or thymine or cytosine: H\n",
    "- Guanine or cytosine or thymine: B\n",
    "- Guanine or adenine or cytosine: V\n",
    "- Guanine or adenine or thymine: D\n",
    "- Guanine or adenine or thymine or cytosine: N"
   ]
  },
  {
   "cell_type": "markdown",
   "metadata": {},
   "source": [
    "Explore sequences category:"
   ]
  },
  {
   "cell_type": "code",
   "execution_count": 6,
   "metadata": {},
   "outputs": [
    {
     "data": {
      "text/html": [
       "<div>\n",
       "<style scoped>\n",
       "    .dataframe tbody tr th:only-of-type {\n",
       "        vertical-align: middle;\n",
       "    }\n",
       "\n",
       "    .dataframe tbody tr th {\n",
       "        vertical-align: top;\n",
       "    }\n",
       "\n",
       "    .dataframe thead th {\n",
       "        text-align: right;\n",
       "    }\n",
       "</style>\n",
       "<table border=\"1\" class=\"dataframe\">\n",
       "  <thead>\n",
       "    <tr style=\"text-align: right;\">\n",
       "      <th></th>\n",
       "      <th>ID</th>\n",
       "      <th>sequence</th>\n",
       "      <th>category</th>\n",
       "    </tr>\n",
       "  </thead>\n",
       "  <tbody>\n",
       "    <tr>\n",
       "      <th>0</th>\n",
       "      <td>NR_168385.1</td>\n",
       "      <td>AGCAGGGCGTCCAGCGGAGAAGGCAGAGGAGGGGAGATGCGGGCTC...</td>\n",
       "      <td>NR</td>\n",
       "    </tr>\n",
       "    <tr>\n",
       "      <th>1</th>\n",
       "      <td>NR_168384.1</td>\n",
       "      <td>AGCAGGGCGTCCAGCGGAGAAGGCAGAGGAGGGGAGATGCGGGCTC...</td>\n",
       "      <td>NR</td>\n",
       "    </tr>\n",
       "  </tbody>\n",
       "</table>\n",
       "</div>"
      ],
      "text/plain": [
       "            ID                                           sequence category\n",
       "0  NR_168385.1  AGCAGGGCGTCCAGCGGAGAAGGCAGAGGAGGGGAGATGCGGGCTC...       NR\n",
       "1  NR_168384.1  AGCAGGGCGTCCAGCGGAGAAGGCAGAGGAGGGGAGATGCGGGCTC...       NR"
      ]
     },
     "execution_count": 6,
     "metadata": {},
     "output_type": "execute_result"
    }
   ],
   "source": [
    "human_genome_df['category'] = human_genome_df['ID'].str.split('_', expand=True)[0]\n",
    "human_genome_df.head(2)"
   ]
  },
  {
   "cell_type": "code",
   "execution_count": 7,
   "metadata": {},
   "outputs": [
    {
     "data": {
      "text/plain": [
       "XM    131642\n",
       "NM     53668\n",
       "XR     51976\n",
       "NR     23224\n",
       "Name: category, dtype: int64"
      ]
     },
     "execution_count": 7,
     "metadata": {},
     "output_type": "execute_result"
    }
   ],
   "source": [
    "human_genome_df['category'].value_counts()"
   ]
  },
  {
   "cell_type": "code",
   "execution_count": 8,
   "metadata": {},
   "outputs": [
    {
     "data": {
      "text/plain": [
       "XP    131642\n",
       "NP     53668\n",
       "YP        13\n",
       "Name: category, dtype: int64"
      ]
     },
     "execution_count": 8,
     "metadata": {},
     "output_type": "execute_result"
    }
   ],
   "source": [
    "protein_df['category'] = protein_df['ID'].str.split('_', expand=True)[0]\n",
    "protein_df['category'].value_counts()"
   ]
  },
  {
   "cell_type": "markdown",
   "metadata": {},
   "source": [
    "| Category | Description                                    | Comment                                          |\n",
    "|----------|------------------------------------------------|--------------------------------------------------|\n",
    "| NC       | Complete genomic molecules                     |                                                  |\n",
    "| NG       | Incomplete genomic region                      |                                                  |\n",
    "| NM       | mRNA                                           | Protein-coding transcripts (usually curated)      |\n",
    "| NR       | ncRNA                                          | Non-protein-coding transcripts                    |\n",
    "| XM       | Predicted mRNA model                           | Predicted model protein-coding transcript         |\n",
    "| XR       | Predicted ncRNA model                          | Predicted model non-protein-coding transcript     |\n",
    "| NP       | Protein                                        | Associated with an NM_ or NC_ accession           |\n",
    "| YP       | Protein\t                                    | Annotated on genomic molecules without an instantiated transcript record|\n",
    "| XP       | Predicted Protein model (eukaryotic sequences) | Associated with an XM_ accession                  |\n",
    "| WP       | Predicted Protein model (prokaryotic sequences)| Non-redundant across multiple strains and species |"
   ]
  },
  {
   "cell_type": "code",
   "execution_count": 9,
   "metadata": {},
   "outputs": [
    {
     "data": {
      "text/plain": [
       "['NM', 'NR', 'XR', 'XM', 'XP', 'YP', 'NP']"
      ]
     },
     "execution_count": 9,
     "metadata": {},
     "output_type": "execute_result"
    }
   ],
   "source": [
    "categories = list(set(human_genome_df['category'].unique()))+list(set(protein_df['category'].unique()))\n",
    "categories"
   ]
  },
  {
   "cell_type": "code",
   "execution_count": 10,
   "metadata": {},
   "outputs": [],
   "source": [
    "columns = ['ID']\n",
    "for category in categories:\n",
    "    columns.append(category+'_ID')\n",
    "    columns.append(category+'_sequence')\n",
    "\n",
    "final_df = pd.DataFrame(columns=columns)"
   ]
  },
  {
   "cell_type": "code",
   "execution_count": 11,
   "metadata": {},
   "outputs": [
    {
     "data": {
      "text/plain": [
       "(260510, 3)"
      ]
     },
     "execution_count": 11,
     "metadata": {},
     "output_type": "execute_result"
    }
   ],
   "source": [
    "human_genome_df.shape"
   ]
  },
  {
   "cell_type": "markdown",
   "metadata": {},
   "source": [
    "Check if we have same sample for different category in dataset:"
   ]
  },
  {
   "cell_type": "code",
   "execution_count": 12,
   "metadata": {},
   "outputs": [],
   "source": [
    "def id(row):\n",
    "    return row['ID'].split('_')[1]\n",
    "\n",
    "id_number_list = human_genome_df.apply(id, axis=1)"
   ]
  },
  {
   "cell_type": "code",
   "execution_count": 13,
   "metadata": {},
   "outputs": [
    {
     "data": {
      "text/plain": [
       "67"
      ]
     },
     "execution_count": 13,
     "metadata": {},
     "output_type": "execute_result"
    }
   ],
   "source": [
    "human_genome_df.shape[0] - id_number_list.nunique()"
   ]
  },
  {
   "cell_type": "code",
   "execution_count": 14,
   "metadata": {},
   "outputs": [
    {
     "data": {
      "text/plain": [
       "0"
      ]
     },
     "execution_count": 14,
     "metadata": {},
     "output_type": "execute_result"
    }
   ],
   "source": [
    "id_protein_list = protein_df.apply(id, axis=1)\n",
    "protein_df.shape[0] - id_protein_list.nunique() # no"
   ]
  },
  {
   "cell_type": "code",
   "execution_count": 15,
   "metadata": {},
   "outputs": [],
   "source": [
    "# check if the ID in the human_genome_df is in the protein_df\n",
    "\n",
    "for id in id_number_list:\n",
    "    if id in id_protein_list:\n",
    "        print(id) # no"
   ]
  },
  {
   "cell_type": "markdown",
   "metadata": {},
   "source": [
    "Save dataset with only protein-coding data"
   ]
  },
  {
   "cell_type": "code",
   "execution_count": 16,
   "metadata": {},
   "outputs": [
    {
     "data": {
      "text/html": [
       "<div>\n",
       "<style scoped>\n",
       "    .dataframe tbody tr th:only-of-type {\n",
       "        vertical-align: middle;\n",
       "    }\n",
       "\n",
       "    .dataframe tbody tr th {\n",
       "        vertical-align: top;\n",
       "    }\n",
       "\n",
       "    .dataframe thead th {\n",
       "        text-align: right;\n",
       "    }\n",
       "</style>\n",
       "<table border=\"1\" class=\"dataframe\">\n",
       "  <thead>\n",
       "    <tr style=\"text-align: right;\">\n",
       "      <th></th>\n",
       "      <th>ID</th>\n",
       "      <th>sequence</th>\n",
       "      <th>category</th>\n",
       "    </tr>\n",
       "  </thead>\n",
       "  <tbody>\n",
       "    <tr>\n",
       "      <th>0</th>\n",
       "      <td>NR_168385.1</td>\n",
       "      <td>AGCAGGGCGTCCAGCGGAGAAGGCAGAGGAGGGGAGATGCGGGCTC...</td>\n",
       "      <td>NR</td>\n",
       "    </tr>\n",
       "    <tr>\n",
       "      <th>1</th>\n",
       "      <td>NR_168384.1</td>\n",
       "      <td>AGCAGGGCGTCCAGCGGAGAAGGCAGAGGAGGGGAGATGCGGGCTC...</td>\n",
       "      <td>NR</td>\n",
       "    </tr>\n",
       "    <tr>\n",
       "      <th>2</th>\n",
       "      <td>NR_168380.1</td>\n",
       "      <td>AGTCCCAGGGAGGAGACCGCGGGAGAGGCGGCGGGACCAGGGTCCC...</td>\n",
       "      <td>NR</td>\n",
       "    </tr>\n",
       "    <tr>\n",
       "      <th>3</th>\n",
       "      <td>NR_168400.1</td>\n",
       "      <td>GCACACCTGGCTCACGGCGAGTGCGGAGCAGAAAGCACTACTGGCG...</td>\n",
       "      <td>NR</td>\n",
       "    </tr>\n",
       "    <tr>\n",
       "      <th>4</th>\n",
       "      <td>NR_028389.1</td>\n",
       "      <td>GCTACACTTAGTGACTCTGAGGGACATGCAACCCTCCCCGCATGCT...</td>\n",
       "      <td>NR</td>\n",
       "    </tr>\n",
       "    <tr>\n",
       "      <th>...</th>\n",
       "      <td>...</td>\n",
       "      <td>...</td>\n",
       "      <td>...</td>\n",
       "    </tr>\n",
       "    <tr>\n",
       "      <th>63840</th>\n",
       "      <td>NM_001363973.3</td>\n",
       "      <td>AGTAACTGAGACCTCACCGCGTTGACCCAGCACCAGGGCTCGCGGG...</td>\n",
       "      <td>NM</td>\n",
       "    </tr>\n",
       "    <tr>\n",
       "      <th>63841</th>\n",
       "      <td>NM_001363974.2</td>\n",
       "      <td>AGTAACTGAGACCTCACCGCGTTGACCCAGCACCAGGGCTCGCGGG...</td>\n",
       "      <td>NM</td>\n",
       "    </tr>\n",
       "    <tr>\n",
       "      <th>63842</th>\n",
       "      <td>NR_157026.1</td>\n",
       "      <td>CGTTGCCTTGGCTACACCGTCTGTTAGGGCCGCGCACGAGATCAGT...</td>\n",
       "      <td>NR</td>\n",
       "    </tr>\n",
       "    <tr>\n",
       "      <th>63843</th>\n",
       "      <td>NR_024605.3</td>\n",
       "      <td>AGTAACTGAGACCTCACCGCGTTGACCCAGCACCAGGGCTCGCGGG...</td>\n",
       "      <td>NR</td>\n",
       "    </tr>\n",
       "    <tr>\n",
       "      <th>63844</th>\n",
       "      <td>NR_157027.2</td>\n",
       "      <td>AGTAACTGAGACCTCACCGCGTTGACCCAGCACCAGGGCTCGCGGG...</td>\n",
       "      <td>NR</td>\n",
       "    </tr>\n",
       "  </tbody>\n",
       "</table>\n",
       "<p>260510 rows × 3 columns</p>\n",
       "</div>"
      ],
      "text/plain": [
       "                   ID                                           sequence  \\\n",
       "0         NR_168385.1  AGCAGGGCGTCCAGCGGAGAAGGCAGAGGAGGGGAGATGCGGGCTC...   \n",
       "1         NR_168384.1  AGCAGGGCGTCCAGCGGAGAAGGCAGAGGAGGGGAGATGCGGGCTC...   \n",
       "2         NR_168380.1  AGTCCCAGGGAGGAGACCGCGGGAGAGGCGGCGGGACCAGGGTCCC...   \n",
       "3         NR_168400.1  GCACACCTGGCTCACGGCGAGTGCGGAGCAGAAAGCACTACTGGCG...   \n",
       "4         NR_028389.1  GCTACACTTAGTGACTCTGAGGGACATGCAACCCTCCCCGCATGCT...   \n",
       "...               ...                                                ...   \n",
       "63840  NM_001363973.3  AGTAACTGAGACCTCACCGCGTTGACCCAGCACCAGGGCTCGCGGG...   \n",
       "63841  NM_001363974.2  AGTAACTGAGACCTCACCGCGTTGACCCAGCACCAGGGCTCGCGGG...   \n",
       "63842     NR_157026.1  CGTTGCCTTGGCTACACCGTCTGTTAGGGCCGCGCACGAGATCAGT...   \n",
       "63843     NR_024605.3  AGTAACTGAGACCTCACCGCGTTGACCCAGCACCAGGGCTCGCGGG...   \n",
       "63844     NR_157027.2  AGTAACTGAGACCTCACCGCGTTGACCCAGCACCAGGGCTCGCGGG...   \n",
       "\n",
       "      category  \n",
       "0           NR  \n",
       "1           NR  \n",
       "2           NR  \n",
       "3           NR  \n",
       "4           NR  \n",
       "...        ...  \n",
       "63840       NM  \n",
       "63841       NM  \n",
       "63842       NR  \n",
       "63843       NR  \n",
       "63844       NR  \n",
       "\n",
       "[260510 rows x 3 columns]"
      ]
     },
     "execution_count": 16,
     "metadata": {},
     "output_type": "execute_result"
    }
   ],
   "source": [
    "human_genome_df"
   ]
  },
  {
   "cell_type": "code",
   "execution_count": 20,
   "metadata": {},
   "outputs": [
    {
     "data": {
      "text/plain": [
       "(185310, 3)"
      ]
     },
     "execution_count": 20,
     "metadata": {},
     "output_type": "execute_result"
    }
   ],
   "source": [
    "# potein-coding category: NM XM\n",
    "coding_sequences_df = human_genome_df[human_genome_df['category'].str.contains('NM') | human_genome_df['category'].str.contains('XM')]\n",
    "coding_sequences_df.shape"
   ]
  },
  {
   "cell_type": "code",
   "execution_count": 26,
   "metadata": {},
   "outputs": [
    {
     "data": {
      "text/html": [
       "<div>\n",
       "<style scoped>\n",
       "    .dataframe tbody tr th:only-of-type {\n",
       "        vertical-align: middle;\n",
       "    }\n",
       "\n",
       "    .dataframe tbody tr th {\n",
       "        vertical-align: top;\n",
       "    }\n",
       "\n",
       "    .dataframe thead th {\n",
       "        text-align: right;\n",
       "    }\n",
       "</style>\n",
       "<table border=\"1\" class=\"dataframe\">\n",
       "  <thead>\n",
       "    <tr style=\"text-align: right;\">\n",
       "      <th></th>\n",
       "      <th>ID</th>\n",
       "      <th>sequence</th>\n",
       "      <th>category</th>\n",
       "    </tr>\n",
       "  </thead>\n",
       "  <tbody>\n",
       "    <tr>\n",
       "      <th>0</th>\n",
       "      <td>NM_001368254.1</td>\n",
       "      <td>GCTGAGCTGAGCTGGGGCGCAGCCGCCTGTCTGCACCGGCAGCACC...</td>\n",
       "      <td>NM</td>\n",
       "    </tr>\n",
       "    <tr>\n",
       "      <th>1</th>\n",
       "      <td>NM_001350977.1</td>\n",
       "      <td>TCCACAACTGAAACATCCACTTCTGAACACCATGTCCTACTACAGC...</td>\n",
       "      <td>NM</td>\n",
       "    </tr>\n",
       "  </tbody>\n",
       "</table>\n",
       "</div>"
      ],
      "text/plain": [
       "               ID                                           sequence category\n",
       "0  NM_001368254.1  GCTGAGCTGAGCTGGGGCGCAGCCGCCTGTCTGCACCGGCAGCACC...       NM\n",
       "1  NM_001350977.1  TCCACAACTGAAACATCCACTTCTGAACACCATGTCCTACTACAGC...       NM"
      ]
     },
     "execution_count": 26,
     "metadata": {},
     "output_type": "execute_result"
    }
   ],
   "source": [
    "coding_sequences_df.index = range(coding_sequences_df.shape[0]) # reset index\n",
    "coding_sequences_df.head(2)"
   ]
  },
  {
   "cell_type": "code",
   "execution_count": 22,
   "metadata": {},
   "outputs": [
    {
     "data": {
      "text/html": [
       "<div>\n",
       "<style scoped>\n",
       "    .dataframe tbody tr th:only-of-type {\n",
       "        vertical-align: middle;\n",
       "    }\n",
       "\n",
       "    .dataframe tbody tr th {\n",
       "        vertical-align: top;\n",
       "    }\n",
       "\n",
       "    .dataframe thead th {\n",
       "        text-align: right;\n",
       "    }\n",
       "</style>\n",
       "<table border=\"1\" class=\"dataframe\">\n",
       "  <thead>\n",
       "    <tr style=\"text-align: right;\">\n",
       "      <th></th>\n",
       "      <th>ID</th>\n",
       "      <th>sequence</th>\n",
       "      <th>category</th>\n",
       "    </tr>\n",
       "  </thead>\n",
       "  <tbody>\n",
       "    <tr>\n",
       "      <th>26162</th>\n",
       "      <td>XM_054365963.1</td>\n",
       "      <td>AGAAGGTCAGCAAAGGAAAGTGGAAGTTGGATTCTGAAAGATCGAG...</td>\n",
       "      <td>XM</td>\n",
       "    </tr>\n",
       "    <tr>\n",
       "      <th>10544</th>\n",
       "      <td>XM_011526192.2</td>\n",
       "      <td>GAGCCTGCGAGTCCGCGAGCCAGCGAGCTGCGGCTGCGGCCTCCCC...</td>\n",
       "      <td>XM</td>\n",
       "    </tr>\n",
       "    <tr>\n",
       "      <th>20328</th>\n",
       "      <td>XM_054337381.1</td>\n",
       "      <td>CCCCATTTGTGACAGTCAGGTGTGTAGCTGGGACGGTGCTGGTCTG...</td>\n",
       "      <td>XM</td>\n",
       "    </tr>\n",
       "    <tr>\n",
       "      <th>12427</th>\n",
       "      <td>XM_005266279.5</td>\n",
       "      <td>GACCTAGCGTGTGCTCAGCTCTGGACAAGACATGGATGTAGGCAGA...</td>\n",
       "      <td>XM</td>\n",
       "    </tr>\n",
       "    <tr>\n",
       "      <th>862</th>\n",
       "      <td>XM_011532566.3</td>\n",
       "      <td>TGACAGCTCATACCCTGGAGGAGGGCCACTATGTCATCGGGCCCAA...</td>\n",
       "      <td>XM</td>\n",
       "    </tr>\n",
       "  </tbody>\n",
       "</table>\n",
       "</div>"
      ],
      "text/plain": [
       "                   ID                                           sequence  \\\n",
       "26162  XM_054365963.1  AGAAGGTCAGCAAAGGAAAGTGGAAGTTGGATTCTGAAAGATCGAG...   \n",
       "10544  XM_011526192.2  GAGCCTGCGAGTCCGCGAGCCAGCGAGCTGCGGCTGCGGCCTCCCC...   \n",
       "20328  XM_054337381.1  CCCCATTTGTGACAGTCAGGTGTGTAGCTGGGACGGTGCTGGTCTG...   \n",
       "12427  XM_005266279.5  GACCTAGCGTGTGCTCAGCTCTGGACAAGACATGGATGTAGGCAGA...   \n",
       "862    XM_011532566.3  TGACAGCTCATACCCTGGAGGAGGGCCACTATGTCATCGGGCCCAA...   \n",
       "\n",
       "      category  \n",
       "26162       XM  \n",
       "10544       XM  \n",
       "20328       XM  \n",
       "12427       XM  \n",
       "862         XM  "
      ]
     },
     "execution_count": 22,
     "metadata": {},
     "output_type": "execute_result"
    }
   ],
   "source": [
    "coding_sequences_df[coding_sequences_df['category'].str.contains('XM')].sample(5)"
   ]
  },
  {
   "cell_type": "code",
   "execution_count": 23,
   "metadata": {},
   "outputs": [
    {
     "data": {
      "text/html": [
       "<div>\n",
       "<style scoped>\n",
       "    .dataframe tbody tr th:only-of-type {\n",
       "        vertical-align: middle;\n",
       "    }\n",
       "\n",
       "    .dataframe tbody tr th {\n",
       "        vertical-align: top;\n",
       "    }\n",
       "\n",
       "    .dataframe thead th {\n",
       "        text-align: right;\n",
       "    }\n",
       "</style>\n",
       "<table border=\"1\" class=\"dataframe\">\n",
       "  <thead>\n",
       "    <tr style=\"text-align: right;\">\n",
       "      <th></th>\n",
       "      <th>ID</th>\n",
       "      <th>sequence</th>\n",
       "      <th>category</th>\n",
       "    </tr>\n",
       "  </thead>\n",
       "  <tbody>\n",
       "    <tr>\n",
       "      <th>4348</th>\n",
       "      <td>NM_001164692.3</td>\n",
       "      <td>ATTCTTGTCTTACCCTCTGCAAATGTGATAGGCACAGGACAGGAGT...</td>\n",
       "      <td>NM</td>\n",
       "    </tr>\n",
       "    <tr>\n",
       "      <th>4329</th>\n",
       "      <td>NM_001286109.2</td>\n",
       "      <td>ACGTGATCCGACAAACGGCCTCTGCATAGTGCAGAACATTCTGCTG...</td>\n",
       "      <td>NM</td>\n",
       "    </tr>\n",
       "    <tr>\n",
       "      <th>4659</th>\n",
       "      <td>NM_002028.4</td>\n",
       "      <td>AATGCGCGTTGTTGCTTAACGAAGCAGAGTCCTACACACTGTCTGC...</td>\n",
       "      <td>NM</td>\n",
       "    </tr>\n",
       "    <tr>\n",
       "      <th>6509</th>\n",
       "      <td>NM_001394498.1</td>\n",
       "      <td>GCCATCTTTGTTGGGGGCAGCCAGGCCTGGCTCGAGATGCCGAAGT...</td>\n",
       "      <td>NM</td>\n",
       "    </tr>\n",
       "    <tr>\n",
       "      <th>661</th>\n",
       "      <td>NM_001318976.1</td>\n",
       "      <td>ATCTCGCGTTTCCGGCCGGAAGCTTCTCCAGCCTTTCCCGGAAGCT...</td>\n",
       "      <td>NM</td>\n",
       "    </tr>\n",
       "  </tbody>\n",
       "</table>\n",
       "</div>"
      ],
      "text/plain": [
       "                  ID                                           sequence  \\\n",
       "4348  NM_001164692.3  ATTCTTGTCTTACCCTCTGCAAATGTGATAGGCACAGGACAGGAGT...   \n",
       "4329  NM_001286109.2  ACGTGATCCGACAAACGGCCTCTGCATAGTGCAGAACATTCTGCTG...   \n",
       "4659     NM_002028.4  AATGCGCGTTGTTGCTTAACGAAGCAGAGTCCTACACACTGTCTGC...   \n",
       "6509  NM_001394498.1  GCCATCTTTGTTGGGGGCAGCCAGGCCTGGCTCGAGATGCCGAAGT...   \n",
       "661   NM_001318976.1  ATCTCGCGTTTCCGGCCGGAAGCTTCTCCAGCCTTTCCCGGAAGCT...   \n",
       "\n",
       "     category  \n",
       "4348       NM  \n",
       "4329       NM  \n",
       "4659       NM  \n",
       "6509       NM  \n",
       "661        NM  "
      ]
     },
     "execution_count": 23,
     "metadata": {},
     "output_type": "execute_result"
    }
   ],
   "source": [
    "coding_sequences_df[coding_sequences_df['category'].str.contains('NM')].sample(5)"
   ]
  },
  {
   "cell_type": "markdown",
   "metadata": {},
   "source": [
    "Save dataset:"
   ]
  },
  {
   "cell_type": "code",
   "execution_count": 27,
   "metadata": {},
   "outputs": [],
   "source": [
    "PATH = 'human_genome/'\n",
    "\n",
    "coding_sequences_df.to_csv(PATH+'human_genome_protein_coding_seq.csv', index=False)\n",
    "coding_sequences_df.to_pickle(PATH+'human_genome_protein_coding_seq.pkl')"
   ]
  }
 ],
 "metadata": {
  "kernelspec": {
   "display_name": "base",
   "language": "python",
   "name": "python3"
  },
  "language_info": {
   "codemirror_mode": {
    "name": "ipython",
    "version": 3
   },
   "file_extension": ".py",
   "mimetype": "text/x-python",
   "name": "python",
   "nbconvert_exporter": "python",
   "pygments_lexer": "ipython3",
   "version": "3.10.9"
  }
 },
 "nbformat": 4,
 "nbformat_minor": 2
}
